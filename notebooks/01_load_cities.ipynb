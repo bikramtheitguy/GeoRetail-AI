{
 "cells": [
  {
   "cell_type": "code",
   "execution_count": 2,
   "id": "b87fa2a9",
   "metadata": {},
   "outputs": [
    {
     "name": "stdout",
     "output_type": "stream",
     "text": [
      "Collecting geonamescache\n",
      "  Downloading geonamescache-2.0.0-py3-none-any.whl.metadata (3.2 kB)\n",
      "Downloading geonamescache-2.0.0-py3-none-any.whl (26.6 MB)\n",
      "\u001b[2K   \u001b[90m━━━━━━━━━━━━━━━━━━━━━━━━━━━━━━━━━━━━━━━━\u001b[0m \u001b[32m26.6/26.6 MB\u001b[0m \u001b[31m32.0 MB/s\u001b[0m eta \u001b[36m0:00:00\u001b[0m00:01\u001b[0m0:01\u001b[0m\n",
      "\u001b[?25hInstalling collected packages: geonamescache\n",
      "Successfully installed geonamescache-2.0.0\n"
     ]
    }
   ],
   "source": [
    "!pip install --upgrade geonamescache\n"
   ]
  },
  {
   "cell_type": "code",
   "execution_count": 3,
   "id": "73c5781a",
   "metadata": {},
   "outputs": [],
   "source": [
    "import geonamescache\n",
    "import pandas as pd\n"
   ]
  },
  {
   "cell_type": "code",
   "execution_count": 4,
   "id": "d885a176",
   "metadata": {},
   "outputs": [
    {
     "data": {
      "text/html": [
       "<div>\n",
       "<style scoped>\n",
       "    .dataframe tbody tr th:only-of-type {\n",
       "        vertical-align: middle;\n",
       "    }\n",
       "\n",
       "    .dataframe tbody tr th {\n",
       "        vertical-align: top;\n",
       "    }\n",
       "\n",
       "    .dataframe thead th {\n",
       "        text-align: right;\n",
       "    }\n",
       "</style>\n",
       "<table border=\"1\" class=\"dataframe\">\n",
       "  <thead>\n",
       "    <tr style=\"text-align: right;\">\n",
       "      <th></th>\n",
       "      <th>name</th>\n",
       "      <th>countrycode</th>\n",
       "      <th>latitude</th>\n",
       "      <th>longitude</th>\n",
       "      <th>population</th>\n",
       "    </tr>\n",
       "  </thead>\n",
       "  <tbody>\n",
       "    <tr>\n",
       "      <th>3040051</th>\n",
       "      <td>les Escaldes</td>\n",
       "      <td>AD</td>\n",
       "      <td>42.50729</td>\n",
       "      <td>1.53414</td>\n",
       "      <td>15853</td>\n",
       "    </tr>\n",
       "    <tr>\n",
       "      <th>3041563</th>\n",
       "      <td>Andorra la Vella</td>\n",
       "      <td>AD</td>\n",
       "      <td>42.50779</td>\n",
       "      <td>1.52109</td>\n",
       "      <td>20430</td>\n",
       "    </tr>\n",
       "    <tr>\n",
       "      <th>290594</th>\n",
       "      <td>Umm Al Quwain City</td>\n",
       "      <td>AE</td>\n",
       "      <td>25.56473</td>\n",
       "      <td>55.55517</td>\n",
       "      <td>62747</td>\n",
       "    </tr>\n",
       "    <tr>\n",
       "      <th>291074</th>\n",
       "      <td>Ras Al Khaimah City</td>\n",
       "      <td>AE</td>\n",
       "      <td>25.78953</td>\n",
       "      <td>55.9432</td>\n",
       "      <td>351943</td>\n",
       "    </tr>\n",
       "    <tr>\n",
       "      <th>291580</th>\n",
       "      <td>Zayed City</td>\n",
       "      <td>AE</td>\n",
       "      <td>23.65416</td>\n",
       "      <td>53.70522</td>\n",
       "      <td>63482</td>\n",
       "    </tr>\n",
       "  </tbody>\n",
       "</table>\n",
       "</div>"
      ],
      "text/plain": [
       "                        name countrycode  latitude longitude population\n",
       "3040051         les Escaldes          AD  42.50729   1.53414      15853\n",
       "3041563     Andorra la Vella          AD  42.50779   1.52109      20430\n",
       "290594    Umm Al Quwain City          AE  25.56473  55.55517      62747\n",
       "291074   Ras Al Khaimah City          AE  25.78953   55.9432     351943\n",
       "291580            Zayed City          AE  23.65416  53.70522      63482"
      ]
     },
     "execution_count": 4,
     "metadata": {},
     "output_type": "execute_result"
    }
   ],
   "source": [
    "# Initialize cache and pull cities dict\n",
    "gc = geonamescache.GeonamesCache()\n",
    "cities_dict = gc.get_cities()\n",
    "\n",
    "# Convert to DataFrame\n",
    "df_cities = pd.DataFrame(cities_dict).T   # transpose so each row is one city\n",
    "df_cities = df_cities[[\n",
    "    'name',\n",
    "    'countrycode',\n",
    "    'latitude',\n",
    "    'longitude',\n",
    "    'population'\n",
    "]]\n",
    "\n",
    "# Save for reproducibility\n",
    "df_cities.to_csv('../data/world_cities_updated.csv', index=False)\n",
    "\n",
    "# Preview\n",
    "df_cities.head()\n"
   ]
  }
 ],
 "metadata": {
  "kernelspec": {
   "display_name": "Python 3",
   "language": "python",
   "name": "python3"
  },
  "language_info": {
   "codemirror_mode": {
    "name": "ipython",
    "version": 3
   },
   "file_extension": ".py",
   "mimetype": "text/x-python",
   "name": "python",
   "nbconvert_exporter": "python",
   "pygments_lexer": "ipython3",
   "version": "3.12.1"
  }
 },
 "nbformat": 4,
 "nbformat_minor": 5
}
